{
  "nbformat": 4,
  "nbformat_minor": 0,
  "metadata": {
    "colab": {
      "name": "image.ipynb",
      "provenance": [],
      "collapsed_sections": []
    },
    "kernelspec": {
      "name": "python3",
      "display_name": "Python 3"
    },
    "language_info": {
      "name": "python"
    }
  },
  "cells": [
    {
      "cell_type": "code",
      "execution_count": null,
      "metadata": {
        "id": "NINUuNfK5sTj"
      },
      "outputs": [],
      "source": [
        "import torch.nn as nn\n",
        "import torch\n",
        "import torch.optim as optim\n",
        "import matplotlib.pyplot as pyplot\n",
        "import numpy as np\n",
        "from keras.datasets import mnist\n",
        "from sklearn.linear_model import LinearRegression"
      ]
    },
    {
      "cell_type": "code",
      "source": [
        "(train_X, train_y), (test_X, test_y) = mnist.load_data()"
      ],
      "metadata": {
        "id": "5HHiE_GO6V7z",
        "outputId": "492b40f8-5b59-46ae-95fd-4a8f384cf625",
        "colab": {
          "base_uri": "https://localhost:8080/"
        }
      },
      "execution_count": null,
      "outputs": [
        {
          "output_type": "stream",
          "name": "stdout",
          "text": [
            "Downloading data from https://storage.googleapis.com/tensorflow/tf-keras-datasets/mnist.npz\n",
            "11493376/11490434 [==============================] - 0s 0us/step\n",
            "11501568/11490434 [==============================] - 0s 0us/step\n"
          ]
        }
      ]
    },
    {
      "cell_type": "code",
      "source": [
        "class MLP(nn.Module):\n",
        "  def __init__(self, input_size, output_size):\n",
        "    super(MLP, self).__init__()\n",
        "\n",
        "    self.input_size = input_size\n",
        "    self.output_size = output_size\n",
        "\n",
        "    self.linear = nn.Linear(self.input_size, 20)\n",
        "    self.sigmoid = nn.Sigmoid()\n",
        "    self.linear2 = nn.Linear(20, 20)\n",
        "    self.sigmoid2 = nn.Sigmoid()\n",
        "    self.linear3 = nn.Linear(20, 20)\n",
        "    self.sigmoid3 = nn.Sigmoid()\n",
        "    self.linear4 = nn.Linear(20,output_size)\n",
        "\n",
        "  def forward(self, x):\n",
        "    linear = self.linear(x)\n",
        "    sigmoid1 = self.sigmoid(linear)\n",
        "    linear2 = self.linear2(sigmoid1)\n",
        "    sigmoid2 = self.sigmoid2(linear2)\n",
        "    linear3 = self.linear3(sigmoid2)\n",
        "    sigmoid3 = self.sigmoid3(linear3)\n",
        "    final = self.linear4(sigmoid3)\n",
        "    return final"
      ],
      "metadata": {
        "id": "hZNMq8ni61ii"
      },
      "execution_count": null,
      "outputs": []
    },
    {
      "cell_type": "code",
      "source": [
        "input = torch.randn(2,5)\n",
        "mlp_trial = MLP(5, 3)\n",
        "mlp_trial(input)"
      ],
      "metadata": {
        "id": "tNJy6piC8UzI",
        "outputId": "3319e91b-d593-4912-e710-6c355fee038e",
        "colab": {
          "base_uri": "https://localhost:8080/"
        }
      },
      "execution_count": null,
      "outputs": [
        {
          "output_type": "execute_result",
          "data": {
            "text/plain": [
              "tensor([[0.2263, 0.0307, 0.2982],\n",
              "        [0.2249, 0.0270, 0.2972]], grad_fn=<AddmmBackward0>)"
            ]
          },
          "metadata": {},
          "execution_count": 4
        }
      ]
    },
    {
      "cell_type": "code",
      "source": [
        "mlp_trial"
      ],
      "metadata": {
        "id": "zoiNQr4N9G4K",
        "outputId": "8b87ec99-28f4-4410-a00d-b8057e95265a",
        "colab": {
          "base_uri": "https://localhost:8080/"
        }
      },
      "execution_count": null,
      "outputs": [
        {
          "output_type": "execute_result",
          "data": {
            "text/plain": [
              "MLP(\n",
              "  (linear): Linear(in_features=5, out_features=20, bias=True)\n",
              "  (sigmoid): Sigmoid()\n",
              "  (linear2): Linear(in_features=20, out_features=20, bias=True)\n",
              "  (sigmoid2): Sigmoid()\n",
              "  (linear3): Linear(in_features=20, out_features=3, bias=True)\n",
              ")"
            ]
          },
          "metadata": {},
          "execution_count": 5
        }
      ]
    },
    {
      "cell_type": "code",
      "source": [
        "X = torch.from_numpy(train_X.astype(np.float32))\n",
        "X = X.reshape(60000, 28*28)"
      ],
      "metadata": {
        "id": "Ja-tAv2UHwY7"
      },
      "execution_count": null,
      "outputs": []
    },
    {
      "cell_type": "code",
      "source": [
        "mlp = MLP(28*28, 1)\n",
        "adam = optim.SGD(mlp.parameters(), lr = 1)\n",
        "loss = nn.L1Loss()"
      ],
      "metadata": {
        "id": "Aa7V__-uIkDi"
      },
      "execution_count": null,
      "outputs": []
    },
    {
      "cell_type": "code",
      "source": [
        "Y = torch.from_numpy(train_y.astype(np.float32))"
      ],
      "metadata": {
        "id": "YTAqE-BopKm8"
      },
      "execution_count": null,
      "outputs": []
    },
    {
      "cell_type": "code",
      "source": [
        "y_pred = mlp(X)\n",
        "# yres = torch.argmax(y_pred)\n",
        "# y_pred = y_pred.to(torch.long)\n",
        "Y = Y.to(torch.float)\n",
        "# yres.requires_grad = True\n",
        "# loss(y_pred, Y)\n",
        "y_pred = y_pred.reshape(60000)\n",
        "loss(y_pred, Y)"
      ],
      "metadata": {
        "id": "8IlPyXTPM49T",
        "outputId": "9865a499-96e2-4c5f-cab3-1a043d204f59",
        "colab": {
          "base_uri": "https://localhost:8080/"
        }
      },
      "execution_count": null,
      "outputs": [
        {
          "output_type": "execute_result",
          "data": {
            "text/plain": [
              "tensor(4.0491, grad_fn=<L1LossBackward0>)"
            ]
          },
          "metadata": {},
          "execution_count": 7
        }
      ]
    },
    {
      "cell_type": "code",
      "source": [
        "n_epoch =1000\n",
        "for epoch in range(n_epoch):\n",
        "  adam.zero_grad()\n",
        "  y_pred = mlp(X)\n",
        "  y_pred = y_pred.reshape(60000)\n",
        "  lossVal = loss(y_pred, Y)\n",
        "  # print(y_pred)\n",
        "  print(f\"epoch: {epoch}, loss value = {lossVal}\")\n",
        "  lossVal.backward()\n",
        "  if(lossVal.item()<0.5):\n",
        "    break\n",
        "  adam.step()"
      ],
      "metadata": {
        "id": "_PGXpc1YJBxU",
        "colab": {
          "base_uri": "https://localhost:8080/"
        },
        "outputId": "b3faf184-eab7-42d3-fd40-fcdef5875402"
      },
      "execution_count": null,
      "outputs": [
        {
          "output_type": "stream",
          "name": "stdout",
          "text": [
            "epoch: 0, loss value = 0.7480524182319641\n",
            "epoch: 1, loss value = 0.8443462252616882\n",
            "epoch: 2, loss value = 0.8737793564796448\n",
            "epoch: 3, loss value = 0.8066704273223877\n",
            "epoch: 4, loss value = 0.8934581279754639\n",
            "epoch: 5, loss value = 0.7665296792984009\n",
            "epoch: 6, loss value = 0.9251075983047485\n",
            "epoch: 7, loss value = 0.7732699513435364\n",
            "epoch: 8, loss value = 0.9122816920280457\n",
            "epoch: 9, loss value = 0.7402741312980652\n",
            "epoch: 10, loss value = 0.7292045950889587\n",
            "epoch: 11, loss value = 0.716707170009613\n",
            "epoch: 12, loss value = 0.9161319136619568\n",
            "epoch: 13, loss value = 0.7537885308265686\n",
            "epoch: 14, loss value = 0.8931015729904175\n",
            "epoch: 15, loss value = 0.7396190166473389\n",
            "epoch: 16, loss value = 0.7507293224334717\n",
            "epoch: 17, loss value = 0.7101528644561768\n",
            "epoch: 18, loss value = 0.8961259126663208\n",
            "epoch: 19, loss value = 0.7449816465377808\n",
            "epoch: 20, loss value = 0.8810667991638184\n",
            "epoch: 21, loss value = 0.7502144575119019\n",
            "epoch: 22, loss value = 0.8739527463912964\n",
            "epoch: 23, loss value = 0.7205273509025574\n",
            "epoch: 24, loss value = 0.7245011925697327\n",
            "epoch: 25, loss value = 0.6915786266326904\n",
            "epoch: 26, loss value = 0.8978610634803772\n",
            "epoch: 27, loss value = 0.724733293056488\n",
            "epoch: 28, loss value = 0.879980742931366\n",
            "epoch: 29, loss value = 0.7161682844161987\n",
            "epoch: 30, loss value = 0.7312664985656738\n",
            "epoch: 31, loss value = 0.7105000019073486\n",
            "epoch: 32, loss value = 0.9005609154701233\n",
            "epoch: 33, loss value = 0.7297540307044983\n",
            "epoch: 34, loss value = 0.8709569573402405\n",
            "epoch: 35, loss value = 0.7375912070274353\n",
            "epoch: 36, loss value = 0.7586860656738281\n",
            "epoch: 37, loss value = 0.5825496315956116\n",
            "epoch: 38, loss value = 0.5440869331359863\n",
            "epoch: 39, loss value = 0.531136155128479\n",
            "epoch: 40, loss value = 0.5218347907066345\n",
            "epoch: 41, loss value = 0.49012091755867004\n"
          ]
        }
      ]
    },
    {
      "cell_type": "code",
      "source": [
        "Xtest = torch.from_numpy(test_X.astype(np.float32))\n",
        "Xtest = Xtest.reshape(10000, 28*28)\n",
        "Ytest = torch.from_numpy(test_y.astype(np.float32))"
      ],
      "metadata": {
        "id": "11L0SIaLTla6"
      },
      "execution_count": null,
      "outputs": []
    },
    {
      "cell_type": "code",
      "source": [
        "Yres = mlp(X)\n",
        "Yres = Yres.detach().numpy()"
      ],
      "metadata": {
        "id": "Un3QRyVgUIRa"
      },
      "execution_count": null,
      "outputs": []
    },
    {
      "cell_type": "code",
      "source": [
        "Yres = Yres.reshape(60000)"
      ],
      "metadata": {
        "id": "l4G2IfoZuDGH"
      },
      "execution_count": null,
      "outputs": []
    },
    {
      "cell_type": "code",
      "source": [
        "for i in range(36):\n",
        "  pyplot.subplot(6,6,i+1)\n",
        "  pyplot.imshow(train_X[i], cmap=pyplot.get_cmap('gray'))\n",
        "  pyplot.title(round(Yres[i]))\n",
        "  pyplot.show()"
      ],
      "metadata": {
        "colab": {
          "base_uri": "https://localhost:8080/",
          "height": 1000
        },
        "id": "ygz-BZ_FZcCN",
        "outputId": "6f5f5d71-8134-446e-8a2d-24b08a9010e4"
      },
      "execution_count": null,
      "outputs": [
        {
          "output_type": "display_data",
          "data": {
            "text/plain": [
              "<Figure size 432x288 with 1 Axes>"
            ],
            "image/png": "[encoded data removed]"
          },
          "metadata": {
            "needs_background": "light"
          }
        },
        {
          "output_type": "display_data",
          "data": {
            "text/plain": [
              "<Figure size 432x288 with 1 Axes>"
            ],
            "image/png": "[encoded data removed]"
          },
          "metadata": {
            "needs_background": "light"
          }
        },
        {
          "output_type": "display_data",
          "data": {
            "text/plain": [
              "<Figure size 432x288 with 1 Axes>"
            ],
            "image/png": "[encoded data removed]"
          },
          "metadata": {
            "needs_background": "light"
          }
        },
        {
          "output_type": "display_data",
          "data": {
            "text/plain": [
              "<Figure size 432x288 with 1 Axes>"
            ],
            "image/png": "[encoded data removed]"
          },
          "metadata": {
            "needs_background": "light"
          }
        },
        {
          "output_type": "display_data",
          "data": {
            "text/plain": [
              "<Figure size 432x288 with 1 Axes>"
            ],
            "image/png": "[encoded data removed]"
          },
          "metadata": {
            "needs_background": "light"
          }
        },
        {
          "output_type": "display_data",
          "data": {
            "text/plain": [
              "<Figure size 432x288 with 1 Axes>"
            ],
            "image/png": "[encoded data removed]"
          },
          "metadata": {
            "needs_background": "light"
          }
        },
        {
          "output_type": "display_data",
          "data": {
            "text/plain": [
              "<Figure size 432x288 with 1 Axes>"
            ],
            "image/png": "[encoded data removed]"
          },
          "metadata": {
            "needs_background": "light"
          }
        },
        {
          "output_type": "display_data",
          "data": {
            "text/plain": [
              "<Figure size 432x288 with 1 Axes>"
            ],
            "image/png": "[encoded data removed]"
          },
          "metadata": {
            "needs_background": "light"
          }
        },
        {
          "output_type": "display_data",
          "data": {
            "text/plain": [
              "<Figure size 432x288 with 1 Axes>"
            ],
            "image/png": "[encoded data removed]"
          },
          "metadata": {
            "needs_background": "light"
          }
        },
        {
          "output_type": "display_data",
          "data": {
            "text/plain": [
              "<Figure size 432x288 with 1 Axes>"
            ],
            "image/png": "[encoded data removed]"
          },
          "metadata": {
            "needs_background": "light"
          }
        },
        {
          "output_type": "display_data",
          "data": {
            "text/plain": [
              "<Figure size 432x288 with 1 Axes>"
            ],
            "image/png": "[encoded data removed]"
          },
          "metadata": {
            "needs_background": "light"
          }
        },
        {
          "output_type": "display_data",
          "data": {
            "text/plain": [
              "<Figure size 432x288 with 1 Axes>"
            ],
            "image/png": "[encoded data removed]"
          },
          "metadata": {
            "needs_background": "light"
          }
        },
        {
          "output_type": "display_data",
          "data": {
            "text/plain": [
              "<Figure size 432x288 with 1 Axes>"
            ],
            "image/png": "[encoded data removed]"
          },
          "metadata": {
            "needs_background": "light"
          }
        },
        {
          "output_type": "display_data",
          "data": {
            "text/plain": [
              "<Figure size 432x288 with 1 Axes>"
            ],
            "image/png": "[encoded data removed]"
          },
          "metadata": {
            "needs_background": "light"
          }
        },
        {
          "output_type": "display_data",
          "data": {
            "text/plain": [
              "<Figure size 432x288 with 1 Axes>"
            ],
            "image/png": "[encoded data removed]"
          },
          "metadata": {
            "needs_background": "light"
          }
        },
        {
          "output_type": "display_data",
          "data": {
            "text/plain": [
              "<Figure size 432x288 with 1 Axes>"
            ],
            "image/png": "[encoded data removed]"
          },
          "metadata": {
            "needs_background": "light"
          }
        },
        {
          "output_type": "display_data",
          "data": {
            "text/plain": [
              "<Figure size 432x288 with 1 Axes>"
            ],
            "image/png": "[encoded data removed]"
          },
          "metadata": {
            "needs_background": "light"
          }
        },
        {
          "output_type": "display_data",
          "data": {
            "text/plain": [
              "<Figure size 432x288 with 1 Axes>"
            ],
            "image/png": "[encoded data removed]"
          },
          "metadata": {
            "needs_background": "light"
          }
        },
        {
          "output_type": "display_data",
          "data": {
            "text/plain": [
              "<Figure size 432x288 with 1 Axes>"
            ],
            "image/png": "[encoded data removed]"
          },
          "metadata": {
            "needs_background": "light"
          }
        },
        {
          "output_type": "display_data",
          "data": {
            "text/plain": [
              "<Figure size 432x288 with 1 Axes>"
            ],
            "image/png": "[encoded data removed]"
          },
          "metadata": {
            "needs_background": "light"
          }
        },
        {
          "output_type": "display_data",
          "data": {
            "text/plain": [
              "<Figure size 432x288 with 1 Axes>"
            ],
            "image/png": "[encoded data removed]"
          },
          "metadata": {
            "needs_background": "light"
          }
        },
        {
          "output_type": "display_data",
          "data": {
            "text/plain": [
              "<Figure size 432x288 with 1 Axes>"
            ],
            "image/png": "[encoded data removed]"
          },
          "metadata": {
            "needs_background": "light"
          }
        },
        {
          "output_type": "display_data",
          "data": {
            "text/plain": [
              "<Figure size 432x288 with 1 Axes>"
            ],
            "image/png": "[encoded data removed]"
          },
          "metadata": {
            "needs_background": "light"
          }
        },
        {
          "output_type": "display_data",
          "data": {
            "text/plain": [
              "<Figure size 432x288 with 1 Axes>"
            ],
            "image/png": "[encoded data removed]"
          },
          "metadata": {
            "needs_background": "light"
          }
        },
        {
          "output_type": "display_data",
          "data": {
            "text/plain": [
              "<Figure size 432x288 with 1 Axes>"
            ],
            "image/png": "[encoded data removed]"
          },
          "metadata": {
            "needs_background": "light"
          }
        },
        {
          "output_type": "display_data",
          "data": {
            "text/plain": [
              "<Figure size 432x288 with 1 Axes>"
            ],
            "image/png": "[encoded data removed]"
          },
          "metadata": {
            "needs_background": "light"
          }
        },
        {
          "output_type": "display_data",
          "data": {
            "text/plain": [
              "<Figure size 432x288 with 1 Axes>"
            ],
            "image/png": "[encoded data removed]"
          },
          "metadata": {
            "needs_background": "light"
          }
        },
        {
          "output_type": "display_data",
          "data": {
            "text/plain": [
              "<Figure size 432x288 with 1 Axes>"
            ],
            "image/png": "[encoded data removed]"
          },
          "metadata": {
            "needs_background": "light"
          }
        },
        {
          "output_type": "display_data",
          "data": {
            "text/plain": [
              "<Figure size 432x288 with 1 Axes>"
            ],
            "image/png": "[encoded data removed]"
          },
          "metadata": {
            "needs_background": "light"
          }
        },
        {
          "output_type": "display_data",
          "data": {
            "text/plain": [
              "<Figure size 432x288 with 1 Axes>"
            ],
            "image/png": "[encoded data removed]"
          },
          "metadata": {
            "needs_background": "light"
          }
        },
        {
          "output_type": "display_data",
          "data": {
            "text/plain": [
              "<Figure size 432x288 with 1 Axes>"
            ],
            "image/png": "[encoded data removed]"
          },
          "metadata": {
            "needs_background": "light"
          }
        },
        {
          "output_type": "display_data",
          "data": {
            "text/plain": [
              "<Figure size 432x288 with 1 Axes>"
            ],
            "image/png": "[encoded data removed]"
          },
          "metadata": {
            "needs_background": "light"
          }
        },
        {
          "output_type": "display_data",
          "data": {
            "text/plain": [
              "<Figure size 432x288 with 1 Axes>"
            ],
            "image/png": "[encoded data removed]"
          },
          "metadata": {
            "needs_background": "light"
          }
        },
        {
          "output_type": "display_data",
          "data": {
            "text/plain": [
              "<Figure size 432x288 with 1 Axes>"
            ],
            "image/png": "[encoded data removed]"
          },
          "metadata": {
            "needs_background": "light"
          }
        },
        {
          "output_type": "display_data",
          "data": {
            "text/plain": [
              "<Figure size 432x288 with 1 Axes>"
            ],
            "image/png": "[encoded data removed]"
          },
          "metadata": {
            "needs_background": "light"
          }
        },
        {
          "output_type": "display_data",
          "data": {
            "text/plain": [
              "<Figure size 432x288 with 1 Axes>"
            ],
            "image/png": "[encoded data removed]"
          },
          "metadata": {
            "needs_background": "light"
          }
        }
      ]
    },
    {
      "cell_type": "code",
      "source": [
        "y_pred = y_pred - torch.ones_like(y_pred)"
      ],
      "metadata": {
        "id": "WHhnT_S3_dLv"
      },
      "execution_count": null,
      "outputs": []
    },
    {
      "cell_type": "code",
      "source": [
        "linear = LinearRegression()\n",
        "linear.fit(X, Y)"
      ],
      "metadata": {
        "colab": {
          "base_uri": "https://localhost:8080/"
        },
        "id": "toD3RE2ipQql",
        "outputId": "f4f66a1f-00d9-4083-a7b6-f946ff1c3603"
      },
      "execution_count": null,
      "outputs": [
        {
          "output_type": "execute_result",
          "data": {
            "text/plain": [
              "LinearRegression()"
            ]
          },
          "metadata": {},
          "execution_count": 19
        }
      ]
    },
    {
      "cell_type": "code",
      "source": [
        "linear.score(Xtest, Ytest)"
      ],
      "metadata": {
        "colab": {
          "base_uri": "https://localhost:8080/"
        },
        "id": "qzG9MHMAuc_r",
        "outputId": "fb1b2b7c-5cd0-4249-fe99-9218c0e61b9e"
      },
      "execution_count": null,
      "outputs": [
        {
          "output_type": "execute_result",
          "data": {
            "text/plain": [
              "0.6241945821529145"
            ]
          },
          "metadata": {},
          "execution_count": 20
        }
      ]
    }
  ]
}